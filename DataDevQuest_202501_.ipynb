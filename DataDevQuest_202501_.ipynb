{
 "cells": [
  {
   "cell_type": "markdown",
   "id": "cb4435aa-c1f9-4011-bab1-18603529e8e2",
   "metadata": {},
   "source": [
    "DataDevQuest DDQ2025-01 (Beginner)"
   ]
  },
  {
   "cell_type": "markdown",
   "id": "09d1631a-8442-40af-b89c-01ef633b3107",
   "metadata": {},
   "source": [
    "   Generate PDF Using Tableau Rest API"
   ]
  },
  {
   "cell_type": "markdown",
   "id": "19aed9dc-4229-404d-8b3c-560d895ff0f4",
   "metadata": {},
   "source": [
    "First step:  Install Tableau Server Client"
   ]
  },
  {
   "cell_type": "code",
   "execution_count": null,
   "id": "f55618f4-7b37-464b-b71f-57d985cf544d",
   "metadata": {},
   "outputs": [
    {
     "name": "stdout",
     "output_type": "stream",
     "text": [
      "[Logged in successfully to https://10ax.online.tableau.com/]\n"
     ]
    }
   ],
   "source": [
    "##Install Tableau Server Client##\n",
    "import tableauserverclient as TSC\n",
    "\n",
    "##Define Tableau Server site and personal access token##\n",
    "my_server_url = 'https://10ax.online.tableau.com/'\n",
    "my_token_name = 'datadev_202501_pat'\n",
    "my_token_secret = 'xxxxxxxxxxxxxxx'\n",
    "my_site_id = 'lbstate49er'\n",
    "\n",
    "##Sign in to Tableau Server site using personal access token##\n",
    "tableau_auth = TSC.PersonalAccessTokenAuth( token_name=my_token_name\n",
    "                                           ,personal_access_token=my_token_secret\n",
    "                                           ,site_id=my_site_id)\n",
    "server = TSC.Server(my_server_url, use_server_version=True)\n",
    "\n",
    "##Confirmation of successful sign-in##\n",
    "with server.auth.sign_in_with_personal_access_token(tableau_auth):\n",
    "    print('[Logged in successfully to {}]'.format(my_server_url))"
   ]
  },
  {
   "cell_type": "markdown",
   "id": "a004dc93-3eff-4e40-99d6-d77fa9ba94a8",
   "metadata": {},
   "source": [
    "2nd Attempt-"
   ]
  },
  {
   "cell_type": "markdown",
   "id": "41066755-ec3b-47a2-b55f-f525dbc10fc5",
   "metadata": {},
   "source": [
    "Add Step 2: Submit request for Tableau workbook information"
   ]
  },
  {
   "cell_type": "code",
   "execution_count": null,
   "id": "d6e18f59-6736-4e89-82a8-23280a72aaa3",
   "metadata": {},
   "outputs": [
    {
     "name": "stdout",
     "output_type": "stream",
     "text": [
      "[Logged in successfully to https://10ax.online.tableau.com/]\n",
      "=== Workbook ===\n",
      "Name:world as 100 people_by_Paula_Munoz\n",
      "luid:b1bb1ed3-1017-4ac1-92b7-fc96cb443625\n",
      "URL:https://10ax.online.tableau.com/#/site/lbstate49er/workbooks/1104091\n",
      "Content URL:worldas100people_by_Paula_Munoz\n"
     ]
    }
   ],
   "source": [
    "##Install Tableau Server Client (if not already done so)##\n",
    "import tableauserverclient as TSC\n",
    "\n",
    "##Sign in to Tableau Server site using personal access token and open 'world as 100 people_by_Paula_Munoz' Tableau workbook from project folder on Tableau Server##\n",
    "my_server_url = 'https://10ax.online.tableau.com/'\n",
    "my_token_name = 'datadev_202501_pat'\n",
    "my_token_secret = 'xxxxxxxxxx'\n",
    "my_site_id = 'lbstate49er'\n",
    "my_workbook = \"world as 100 people_by_Paula_Munoz\"\n",
    "\n",
    "tableau_auth = TSC.PersonalAccessTokenAuth( token_name=my_token_name\n",
    "                                           ,personal_access_token=my_token_secret\n",
    "                                           ,site_id=my_site_id)\n",
    "server = TSC.Server(my_server_url, use_server_version=True)\n",
    "\n",
    "##Confirmation of of successful sign-in##\n",
    "with server.auth.sign_in_with_personal_access_token(tableau_auth):\n",
    "    print('[Logged in successfully to {}]'.format(my_server_url))\n",
    "\n",
    "##Send request for workbook information (name, luid, location URL and content URL##\n",
    "    req_option = TSC.RequestOptions()\n",
    "    req_option.filter.add(TSC.Filter(TSC.RequestOptions.Field.Name\n",
    "                                    ,TSC.RequestOptions.Operator.Equals\n",
    "                                    ,my_workbook))\n",
    " \n",
    "    workbooks, pagination_item = server.workbooks.get(req_options=req_option)\n",
    "    if workbooks:\n",
    "        print(f\"=== Workbook ===\")\n",
    "        print(f\"Name:{workbooks[0].name}\")\n",
    "        print(f\"luid:{workbooks[0].id}\")\n",
    "        print(f\"URL:{workbooks[0].webpage_url}\")\n",
    "        print(f\"Content URL:{workbooks[0].content_url}\")"
   ]
  },
  {
   "cell_type": "markdown",
   "id": "1445edb9-d1f1-465c-a4ff-130fc3a84a3e",
   "metadata": {},
   "source": [
    "3rd Attempt-"
   ]
  },
  {
   "cell_type": "markdown",
   "id": "24f30895-6384-466d-9cf4-66bd27ffd533",
   "metadata": {},
   "source": [
    "Add 3rd Step: Specify path on local machine to save pdf file.  Generate pdf of workbook image."
   ]
  },
  {
   "cell_type": "code",
   "execution_count": null,
   "id": "37ab7e41-5217-4ff3-87be-9555844e91c2",
   "metadata": {},
   "outputs": [
    {
     "name": "stdout",
     "output_type": "stream",
     "text": [
      "[Logged in successfully to https://10ax.online.tableau.com/]\n",
      "=== Workbook ===\n",
      "Name:world as 100 people_by_Paula_Munoz\n",
      "luid:b1bb1ed3-1017-4ac1-92b7-fc96cb443625\n",
      "URL:https://10ax.online.tableau.com/#/site/lbstate49er/workbooks/1104091\n",
      "View:worldas100people_by_Paula_Munoz\n",
      "Path:C:\\Users\\jvije\\Documents\\Tableau_DataDevQuest\\202501_Materials\n",
      "[PDF Generated]\n"
     ]
    }
   ],
   "source": [
    "import tableauserverclient as TSC\n",
    "import os\n",
    "\n",
    "my_server_url = 'https://10ax.online.tableau.com/'\n",
    "my_token_name = 'datadev_202501_pat'\n",
    "my_token_secret = 'xxxxxxxxxx'\n",
    "my_site_id = 'lbstate49er'\n",
    "my_workbook = \"world as 100 people_by_Paula_Munoz\"\n",
    "my_content_url = 'worldas100people_by_Paula_Munoz'\n",
    "pdf_file_name = f'C:/Users/jvije/Documents/Tableau_DataDevQuest/202501_Materials/{my_content_url}.pdf'\n",
    "\n",
    "tableau_auth = TSC.PersonalAccessTokenAuth( token_name=my_token_name\n",
    "                                           ,personal_access_token=my_token_secret\n",
    "                                           ,site_id=my_site_id)\n",
    "server = TSC.Server(my_server_url, use_server_version=True)\n",
    "\n",
    "with server.auth.sign_in_with_personal_access_token(tableau_auth):\n",
    "    print('[Logged in successfully to {}]'.format(my_server_url))\n",
    "\n",
    "    req_option = TSC.RequestOptions()\n",
    "    req_option.filter.add(TSC.Filter(TSC.RequestOptions.Field.ContentUrl\n",
    "                                    ,TSC.RequestOptions.Operator.Equals\n",
    "                                    ,my_content_url))\n",
    "\n",
    "    workbooks, pagination_item = server.workbooks.get(req_options=req_option)\n",
    "    if workbooks:\n",
    "\n",
    "        wb = workbooks[0]\n",
    "        print(f\"=== Workbook ===\")\n",
    "        print(f\"Name:{wb.name}\")\n",
    "        print(f\"luid:{wb.id}\")\n",
    "        print(f\"URL:{wb.webpage_url}\")\n",
    "        print(f\"View:{wb.content_url}\")\n",
    "\n",
    "        pdf_options = TSC.PDFRequestOptions(page_type='unspecified', orientation='landscape')\n",
    "\n",
    "        server.workbooks.populate_pdf(wb, pdf_options)\n",
    "\n",
    "        print(f'Path:{os.getcwd()}')\n",
    "        with open(pdf_file_name, 'wb') as f:\n",
    "            f.write(wb.pdf)\n",
    "            print('[PDF Generated]')\n"
   ]
  },
  {
   "cell_type": "markdown",
   "id": "6106103a-5b57-46b0-a511-54917a189365",
   "metadata": {},
   "source": [
    "Fourth Attempt-"
   ]
  },
  {
   "cell_type": "markdown",
   "id": "6f967b18-744b-4cfe-81c9-b925c8f2a4ec",
   "metadata": {},
   "source": [
    "Saved as a pdf, but still results in a single pdf despite selecting all worksheets (15 pages)"
   ]
  },
  {
   "cell_type": "code",
   "execution_count": null,
   "id": "4082ce45-cac9-4bf1-b1d2-91b3e2d550f3",
   "metadata": {},
   "outputs": [
    {
     "name": "stdout",
     "output_type": "stream",
     "text": [
      "[Logged in successfully to https://10ax.online.tableau.com/]\n",
      "=== Workbook ===\n",
      "Name:world as 100 people_by_Paula_Munoz_v2\n",
      "luid:00b59294-ca2f-4343-924d-c04d28d54e09\n",
      "URL:https://10ax.online.tableau.com/#/site/lbstate49er/workbooks/1106239\n",
      "View:worldas100people_by_Paula_Munoz_v2\n",
      "Path:C:\\Users\\jvije\\Documents\\Tableau_DataDevQuest\\202501_Materials\n"
     ]
    },
    {
     "ename": "PermissionError",
     "evalue": "[Errno 13] Permission denied: 'C:/Users/jvije/Documents/Tableau_DataDevQuest/202501_Materials/worldas100people_by_Paula_Munoz_v2.pdf'",
     "output_type": "error",
     "traceback": [
      "\u001b[1;31m---------------------------------------------------------------------------\u001b[0m",
      "\u001b[1;31mPermissionError\u001b[0m                           Traceback (most recent call last)",
      "Cell \u001b[1;32mIn[37], line 40\u001b[0m\n\u001b[0;32m     37\u001b[0m server\u001b[38;5;241m.\u001b[39mworkbooks\u001b[38;5;241m.\u001b[39mpopulate_pdf(wb, pdf_options)\n\u001b[0;32m     39\u001b[0m \u001b[38;5;28mprint\u001b[39m(\u001b[38;5;124mf\u001b[39m\u001b[38;5;124m'\u001b[39m\u001b[38;5;124mPath:\u001b[39m\u001b[38;5;132;01m{\u001b[39;00mos\u001b[38;5;241m.\u001b[39mgetcwd()\u001b[38;5;132;01m}\u001b[39;00m\u001b[38;5;124m'\u001b[39m)\n\u001b[1;32m---> 40\u001b[0m \u001b[38;5;28;01mwith\u001b[39;00m \u001b[38;5;28mopen\u001b[39m(pdf_file_name, \u001b[38;5;124m'\u001b[39m\u001b[38;5;124mwb\u001b[39m\u001b[38;5;124m'\u001b[39m) \u001b[38;5;28;01mas\u001b[39;00m f:\n\u001b[0;32m     41\u001b[0m     f\u001b[38;5;241m.\u001b[39mwrite(wb\u001b[38;5;241m.\u001b[39mpdf)\n\u001b[0;32m     42\u001b[0m     \u001b[38;5;28mprint\u001b[39m(\u001b[38;5;124m'\u001b[39m\u001b[38;5;124m[PDF Generated]\u001b[39m\u001b[38;5;124m'\u001b[39m)\n",
      "File \u001b[1;32m~\\anaconda3\\Lib\\site-packages\\IPython\\core\\interactiveshell.py:324\u001b[0m, in \u001b[0;36m_modified_open\u001b[1;34m(file, *args, **kwargs)\u001b[0m\n\u001b[0;32m    317\u001b[0m \u001b[38;5;28;01mif\u001b[39;00m file \u001b[38;5;129;01min\u001b[39;00m {\u001b[38;5;241m0\u001b[39m, \u001b[38;5;241m1\u001b[39m, \u001b[38;5;241m2\u001b[39m}:\n\u001b[0;32m    318\u001b[0m     \u001b[38;5;28;01mraise\u001b[39;00m \u001b[38;5;167;01mValueError\u001b[39;00m(\n\u001b[0;32m    319\u001b[0m         \u001b[38;5;124mf\u001b[39m\u001b[38;5;124m\"\u001b[39m\u001b[38;5;124mIPython won\u001b[39m\u001b[38;5;124m'\u001b[39m\u001b[38;5;124mt let you open fd=\u001b[39m\u001b[38;5;132;01m{\u001b[39;00mfile\u001b[38;5;132;01m}\u001b[39;00m\u001b[38;5;124m by default \u001b[39m\u001b[38;5;124m\"\u001b[39m\n\u001b[0;32m    320\u001b[0m         \u001b[38;5;124m\"\u001b[39m\u001b[38;5;124mas it is likely to crash IPython. If you know what you are doing, \u001b[39m\u001b[38;5;124m\"\u001b[39m\n\u001b[0;32m    321\u001b[0m         \u001b[38;5;124m\"\u001b[39m\u001b[38;5;124myou can use builtins\u001b[39m\u001b[38;5;124m'\u001b[39m\u001b[38;5;124m open.\u001b[39m\u001b[38;5;124m\"\u001b[39m\n\u001b[0;32m    322\u001b[0m     )\n\u001b[1;32m--> 324\u001b[0m \u001b[38;5;28;01mreturn\u001b[39;00m io_open(file, \u001b[38;5;241m*\u001b[39margs, \u001b[38;5;241m*\u001b[39m\u001b[38;5;241m*\u001b[39mkwargs)\n",
      "\u001b[1;31mPermissionError\u001b[0m: [Errno 13] Permission denied: 'C:/Users/jvije/Documents/Tableau_DataDevQuest/202501_Materials/worldas100people_by_Paula_Munoz_v2.pdf'"
     ]
    }
   ],
   "source": [
    "import tableauserverclient as TSC\n",
    "import os\n",
    "\n",
    "my_server_url = 'https://10ax.online.tableau.com/'\n",
    "my_token_name = 'datadev_202501_pat'\n",
    "my_token_secret = 'xxxxxxxxxx'\n",
    "my_site_id = 'lbstate49er'\n",
    "my_workbook = \"world as 100 people_by_Paula_Munoz_v2\"\n",
    "my_content_url = 'worldas100people_by_Paula_Munoz_v2'\n",
    "pdf_file_name = f'C:/Users/jvije/Documents/Tableau_DataDevQuest/202501_Materials/{my_content_url}.pdf'\n",
    "\n",
    "tableau_auth = TSC.PersonalAccessTokenAuth( token_name=my_token_name\n",
    "                                           ,personal_access_token=my_token_secret\n",
    "                                           ,site_id=my_site_id)\n",
    "server = TSC.Server(my_server_url, use_server_version=True)\n",
    "\n",
    "with server.auth.sign_in_with_personal_access_token(tableau_auth):\n",
    "    print('[Logged in successfully to {}]'.format(my_server_url))\n",
    "\n",
    "    req_option = TSC.RequestOptions()\n",
    "    req_option.filter.add(TSC.Filter(TSC.RequestOptions.Field.ContentUrl\n",
    "                                    ,TSC.RequestOptions.Operator.Equals\n",
    "                                    ,my_content_url))\n",
    "\n",
    "    workbooks, pagination_item = server.workbooks.get(req_options=req_option)\n",
    "    if workbooks:\n",
    "\n",
    "        wb = workbooks[0]\n",
    "        print(f\"=== Workbook ===\")\n",
    "        print(f\"Name:{wb.name}\")\n",
    "        print(f\"luid:{wb.id}\")\n",
    "        print(f\"URL:{wb.webpage_url}\")\n",
    "        print(f\"View:{wb.content_url}\")\n",
    "\n",
    "        pdf_options = TSC.PDFRequestOptions(page_type='unspecified', orientation='landscape')\n",
    "\n",
    "        server.workbooks.populate_pdf(wb, pdf_options)\n",
    "\n",
    "        print(f'Path:{os.getcwd()}')\n",
    "        with open(pdf_file_name, 'wb') as f:\n",
    "            f.write(wb.pdf)\n",
    "            print('[PDF Generated]')"
   ]
  },
  {
   "cell_type": "markdown",
   "id": "cf432cf3-6361-44a3-b656-01b52f4276aa",
   "metadata": {},
   "source": [
    "Last attempt-"
   ]
  },
  {
   "cell_type": "markdown",
   "id": "bafa1157-00ec-4ef9-8a65-4288d9264d02",
   "metadata": {},
   "source": [
    "Modify code to add parameter to lift page restriction ('maxage=0')"
   ]
  },
  {
   "cell_type": "code",
   "execution_count": null,
   "id": "76a61bb5-95da-40b6-80c3-ae27d59cf8fa",
   "metadata": {},
   "outputs": [
    {
     "name": "stdout",
     "output_type": "stream",
     "text": [
      "[Logged in successfully to https://10ax.online.tableau.com/]\n",
      "=== Workbook ===\n",
      "Name:world as 100 people_by_Paula_Munoz_v2\n",
      "luid:00b59294-ca2f-4343-924d-c04d28d54e09\n",
      "URL:https://10ax.online.tableau.com/#/site/lbstate49er/workbooks/1106239\n",
      "View:worldas100people_by_Paula_Munoz_v2\n",
      "Path:C:\\Users\\jvije\\Documents\\Tableau_DataDevQuest\\202501_Materials\n"
     ]
    },
    {
     "ename": "PermissionError",
     "evalue": "[Errno 13] Permission denied: 'C:/Users/jvije/Documents/Tableau_DataDevQuest/202501_Materials/worldas100people_by_Paula_Munoz_v2.pdf'",
     "output_type": "error",
     "traceback": [
      "\u001b[1;31m---------------------------------------------------------------------------\u001b[0m",
      "\u001b[1;31mPermissionError\u001b[0m                           Traceback (most recent call last)",
      "Cell \u001b[1;32mIn[39], line 42\u001b[0m\n\u001b[0;32m     39\u001b[0m server\u001b[38;5;241m.\u001b[39mworkbooks\u001b[38;5;241m.\u001b[39mpopulate_pdf(wb, pdf_options)\n\u001b[0;32m     41\u001b[0m \u001b[38;5;28mprint\u001b[39m(\u001b[38;5;124mf\u001b[39m\u001b[38;5;124m'\u001b[39m\u001b[38;5;124mPath:\u001b[39m\u001b[38;5;132;01m{\u001b[39;00mos\u001b[38;5;241m.\u001b[39mgetcwd()\u001b[38;5;132;01m}\u001b[39;00m\u001b[38;5;124m'\u001b[39m)\n\u001b[1;32m---> 42\u001b[0m \u001b[38;5;28;01mwith\u001b[39;00m \u001b[38;5;28mopen\u001b[39m(pdf_file_name, \u001b[38;5;124m'\u001b[39m\u001b[38;5;124mwb\u001b[39m\u001b[38;5;124m'\u001b[39m) \u001b[38;5;28;01mas\u001b[39;00m f:\n\u001b[0;32m     43\u001b[0m     f\u001b[38;5;241m.\u001b[39mwrite(wb\u001b[38;5;241m.\u001b[39mpdf)\n\u001b[0;32m     44\u001b[0m     \u001b[38;5;28mprint\u001b[39m(\u001b[38;5;124m'\u001b[39m\u001b[38;5;124m[PDF Generated]\u001b[39m\u001b[38;5;124m'\u001b[39m)\n",
      "File \u001b[1;32m~\\anaconda3\\Lib\\site-packages\\IPython\\core\\interactiveshell.py:324\u001b[0m, in \u001b[0;36m_modified_open\u001b[1;34m(file, *args, **kwargs)\u001b[0m\n\u001b[0;32m    317\u001b[0m \u001b[38;5;28;01mif\u001b[39;00m file \u001b[38;5;129;01min\u001b[39;00m {\u001b[38;5;241m0\u001b[39m, \u001b[38;5;241m1\u001b[39m, \u001b[38;5;241m2\u001b[39m}:\n\u001b[0;32m    318\u001b[0m     \u001b[38;5;28;01mraise\u001b[39;00m \u001b[38;5;167;01mValueError\u001b[39;00m(\n\u001b[0;32m    319\u001b[0m         \u001b[38;5;124mf\u001b[39m\u001b[38;5;124m\"\u001b[39m\u001b[38;5;124mIPython won\u001b[39m\u001b[38;5;124m'\u001b[39m\u001b[38;5;124mt let you open fd=\u001b[39m\u001b[38;5;132;01m{\u001b[39;00mfile\u001b[38;5;132;01m}\u001b[39;00m\u001b[38;5;124m by default \u001b[39m\u001b[38;5;124m\"\u001b[39m\n\u001b[0;32m    320\u001b[0m         \u001b[38;5;124m\"\u001b[39m\u001b[38;5;124mas it is likely to crash IPython. If you know what you are doing, \u001b[39m\u001b[38;5;124m\"\u001b[39m\n\u001b[0;32m    321\u001b[0m         \u001b[38;5;124m\"\u001b[39m\u001b[38;5;124myou can use builtins\u001b[39m\u001b[38;5;124m'\u001b[39m\u001b[38;5;124m open.\u001b[39m\u001b[38;5;124m\"\u001b[39m\n\u001b[0;32m    322\u001b[0m     )\n\u001b[1;32m--> 324\u001b[0m \u001b[38;5;28;01mreturn\u001b[39;00m io_open(file, \u001b[38;5;241m*\u001b[39margs, \u001b[38;5;241m*\u001b[39m\u001b[38;5;241m*\u001b[39mkwargs)\n",
      "\u001b[1;31mPermissionError\u001b[0m: [Errno 13] Permission denied: 'C:/Users/jvije/Documents/Tableau_DataDevQuest/202501_Materials/worldas100people_by_Paula_Munoz_v2.pdf'"
     ]
    }
   ],
   "source": [
    "import tableauserverclient as TSC\n",
    "import os\n",
    "\n",
    "my_server_url = 'https://10ax.online.tableau.com/'\n",
    "my_token_name = 'datadev_202501_pat'\n",
    "my_token_secret = 'xxxxxxxxxx'\n",
    "my_site_id = 'lbstate49er'\n",
    "my_workbook = \"world as 100 people_by_Paula_Munoz_v2\"\n",
    "my_content_url = 'worldas100people_by_Paula_Munoz_v2'\n",
    "pdf_file_name = f'C:/Users/jvije/Documents/Tableau_DataDevQuest/202501_Materials/{my_content_url}.pdf'\n",
    "\n",
    "tableau_auth = TSC.PersonalAccessTokenAuth( token_name=my_token_name\n",
    "                                           ,personal_access_token=my_token_secret\n",
    "                                           ,site_id=my_site_id)\n",
    "server = TSC.Server(my_server_url, use_server_version=True)\n",
    "\n",
    "with server.auth.sign_in_with_personal_access_token(tableau_auth):\n",
    "    print('[Logged in successfully to {}]'.format(my_server_url))\n",
    "    \n",
    "    req_option = TSC.RequestOptions()\n",
    "    req_option.filter.add(TSC.Filter(TSC.RequestOptions.Field.ContentUrl\n",
    "                                    ,TSC.RequestOptions.Operator.Equals\n",
    "                                    ,my_content_url))\n",
    " \n",
    "    workbooks, pagination_item = server.workbooks.get(req_options=req_option)\n",
    "    if workbooks:\n",
    "\n",
    "        wb = workbooks[0]\n",
    "        print(f\"=== Workbook ===\")\n",
    "        print(f\"Name:{wb.name}\")\n",
    "        print(f\"luid:{wb.id}\")\n",
    "        print(f\"URL:{wb.webpage_url}\")\n",
    "        print(f\"View:{wb.content_url}\")\n",
    "\n",
    "        pdf_options = TSC.PDFRequestOptions(page_type='unspecified'\n",
    "                                           ,orientation='landscape'\n",
    "                                           ,maxage=0)\n",
    "\n",
    "        server.workbooks.populate_pdf(wb, pdf_options)\n",
    "\n",
    "        print(f'Path:{os.getcwd()}')\n",
    "        with open(pdf_file_name, 'wb') as f:\n",
    "            f.write(wb.pdf)\n",
    "            print('[PDF Generated]')"
   ]
  }
 ],
 "metadata": {
  "kernelspec": {
   "display_name": "Python [conda env:base] *",
   "language": "python",
   "name": "conda-base-py"
  },
  "language_info": {
   "codemirror_mode": {
    "name": "ipython",
    "version": 3
   },
   "file_extension": ".py",
   "mimetype": "text/x-python",
   "name": "python",
   "nbconvert_exporter": "python",
   "pygments_lexer": "ipython3",
   "version": "3.12.7"
  }
 },
 "nbformat": 4,
 "nbformat_minor": 5
}
